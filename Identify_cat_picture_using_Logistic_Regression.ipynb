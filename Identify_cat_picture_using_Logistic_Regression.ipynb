{
  "nbformat": 4,
  "nbformat_minor": 0,
  "metadata": {
    "colab": {
      "name": "Identify-cat-picture-using-Logistic-Regression.ipynb",
      "provenance": [],
      "collapsed_sections": []
    },
    "kernelspec": {
      "name": "python3",
      "display_name": "Python 3"
    },
    "language_info": {
      "name": "python"
    }
  },
  "cells": [
    {
      "cell_type": "markdown",
      "metadata": {
        "id": "8yXiqhJOhf8x"
      },
      "source": [
        "Identify cat picture.\n",
        "\n",
        "Goal: Given an input image, figure out wether the picture is cat or not. \n",
        "\n",
        "Strategy: \n",
        "  <ol>Figure out framework and libraries we want to use.</ol>\n",
        "  <ol>Collect the data for the prediciton. </ol>\n",
        "  <ol>Create NN model.</ol>\n",
        "  <ol>Train the NN model.</ol>\n",
        "  <ol>Predict the output using model.</ol>"
      ]
    },
    {
      "cell_type": "markdown",
      "metadata": {
        "id": "2dKJr8LBjcd_"
      },
      "source": [
        "Figure out framework and libraries we want to use\n",
        "\n",
        "Here we will going to use following libraries and packages\n",
        "\n",
        "\n",
        "> Numpy <br>\n",
        "> h5py : (package to interect with data stored in h5 file) <br>\n",
        "> PIL : (To manipulate and save different format of image) <a href='https://en.wikipedia.org/wiki/Python_Imaging_Library'> PIL </a> <br>\n",
        "> Scipy : (Contains varieties of subpackage soving various computation) <a href='https://www.scipy.org/'> Scipy </a> <br>\n",
        "> matplotib : (To plot various graph) <a href='https://matplotlib.org/'> matplotlib </a>\n",
        "\n",
        "\n",
        "\n"
      ]
    },
    {
      "cell_type": "code",
      "metadata": {
        "id": "jb9XBj45f-3E"
      },
      "source": [
        "import numpy as np\n",
        "import matplotlib.pyplot as plt\n",
        "import h5py\n",
        "import scipy\n",
        "from PIL import Image\n",
        "from scipy import ndimage"
      ],
      "execution_count": 1,
      "outputs": []
    },
    {
      "cell_type": "markdown",
      "metadata": {
        "id": "wB7iZYCnWCnw"
      },
      "source": [
        "Method for loading datasets. <br>\n",
        "Since I am using google drive, I will upload like to mount the drive. <br>\n",
        "(we can also run on local machine if we have set enviornment)"
      ]
    },
    {
      "cell_type": "code",
      "metadata": {
        "colab": {
          "base_uri": "https://localhost:8080/"
        },
        "id": "W1ZcvIIIWl2c",
        "outputId": "d010e8bb-b21f-48f3-a510-ee5f9d5e0150"
      },
      "source": [
        "from google.colab import drive\n",
        "drive.mount('/content/drive')"
      ],
      "execution_count": 2,
      "outputs": [
        {
          "output_type": "stream",
          "text": [
            "Mounted at /content/drive\n"
          ],
          "name": "stdout"
        }
      ]
    },
    {
      "cell_type": "markdown",
      "metadata": {
        "id": "yRNjoUYPW_Gl"
      },
      "source": [
        "Data can be in different style. <br>\n",
        "i.e. It can be a big chunk and we can devide them in according our need during implimentation. <br>\n",
        "\n",
        "<b>Note</b> : Here we have used the one which is already defined in train and test set. "
      ]
    },
    {
      "cell_type": "code",
      "metadata": {
        "id": "7BbNXwXdVImb"
      },
      "source": [
        "def load_split_dataset():\n",
        "    train_dataset = h5py.File('/content/drive/MyDrive/dataset_cat_ident/datasets/train_catvnoncat.h5', \"r\")\n",
        "    train_set_x_orig = np.array(train_dataset[\"train_set_x\"][:]) # your train set features\n",
        "    train_set_y_orig = np.array(train_dataset[\"train_set_y\"][:]) # your train set labels\n",
        "\n",
        "    test_dataset = h5py.File('/content/drive/MyDrive/dataset_cat_ident/datasets/test_catvnoncat.h5', \"r\")\n",
        "    test_set_x_orig = np.array(test_dataset[\"test_set_x\"][:]) # your test set features\n",
        "    test_set_y_orig = np.array(test_dataset[\"test_set_y\"][:]) # your test set labels\n",
        "\n",
        "    classes = np.array(test_dataset[\"list_classes\"][:]) # the list of classes\n",
        "    \n",
        "    train_set_y_orig = train_set_y_orig.reshape((1, train_set_y_orig.shape[0]))\n",
        "    test_set_y_orig = test_set_y_orig.reshape((1, test_set_y_orig.shape[0]))\n",
        "    \n",
        "    return train_set_x_orig, train_set_y_orig, test_set_x_orig, test_set_y_orig, classes"
      ],
      "execution_count": 9,
      "outputs": []
    },
    {
      "cell_type": "code",
      "metadata": {
        "id": "J3qQ5VxPXpu5"
      },
      "source": [
        "train_set_x_orig, train_set_y, test_set_x_orig, test_set_y, classes = load_split_dataset() # Load train and test data set using method defined above"
      ],
      "execution_count": 10,
      "outputs": []
    },
    {
      "cell_type": "code",
      "metadata": {
        "colab": {
          "base_uri": "https://localhost:8080/",
          "height": 285
        },
        "id": "YWizIpSMX3Ez",
        "outputId": "0ea27b6d-9ea4-480f-b4e8-80e9563670b4"
      },
      "source": [
        "# Let us see the image from the train data set\n",
        "# We can change the index number and see different output.\n",
        "index = 19\n",
        "plt.imshow(train_set_x_orig[index])\n",
        "print (\"y = \" + str(train_set_y[:, index]) + \", it's a '\" + classes[np.squeeze(train_set_y[:, index])].decode(\"utf-8\") +  \"' picture.\")"
      ],
      "execution_count": 11,
      "outputs": [
        {
          "output_type": "stream",
          "text": [
            "y = [1], it's a 'cat' picture.\n"
          ],
          "name": "stdout"
        },
        {
          "output_type": "display_data",
          "data": {
            "image/png": "[encoded data removed]",
            "text/plain": [
              "<Figure size 432x288 with 1 Axes>"
            ]
          },
          "metadata": {
            "tags": [],
            "needs_background": "light"
          }
        }
      ]
    },
    {
      "cell_type": "code",
      "metadata": {
        "colab": {
          "base_uri": "https://localhost:8080/"
        },
        "id": "XwpI-JmjYFD0",
        "outputId": "a051882a-1c84-4363-f11b-ec56ace5c589"
      },
      "source": [
        "# Let us check the shape of our dataset \n",
        "print('Shape of the traing set :' +str(train_set_x_orig.shape))\n",
        "print('Shape of the test set :' +str(test_set_x_orig.shape))\n"
      ],
      "execution_count": 15,
      "outputs": [
        {
          "output_type": "stream",
          "text": [
            "Shape of the traing set :(209, 64, 64, 3)\n",
            "Shape of the test set :(50, 64, 64, 3)\n"
          ],
          "name": "stdout"
        }
      ]
    },
    {
      "cell_type": "markdown",
      "metadata": {
        "id": "zV1BZl3UZgby"
      },
      "source": [
        "Above shape is telling us that, <br>\n",
        "\n",
        "For training and testing we have respectively 209 and 50 samples.<br>\n",
        "Middel numbers in shape indexing image width and height in pixels.<br>\n",
        "The number in the end represents the number of channels we have (3-RGB)."
      ]
    },
    {
      "cell_type": "code",
      "metadata": {
        "id": "L9uvdz_iZOTE"
      },
      "source": [
        "# Above shape is not good as an input in the NN. So we will flatten it.\n",
        "train_set_x_flatten = train_set_x_orig.reshape(train_set_x_orig.shape[0], -1).T\n",
        "test_set_x_flatten = test_set_x_orig.reshape(test_set_x_orig.shape[0], -1).T"
      ],
      "execution_count": 16,
      "outputs": []
    },
    {
      "cell_type": "code",
      "metadata": {
        "colab": {
          "base_uri": "https://localhost:8080/"
        },
        "id": "FYDBqD5xa04E",
        "outputId": "fde57cc8-ef6d-4622-cf2b-20bbff8477e0"
      },
      "source": [
        "print(test_set_x_flatten)\n",
        "print('\\n After flattening the array shape of testset : ' +str(test_set_x_flatten.shape))"
      ],
      "execution_count": 22,
      "outputs": [
        {
          "output_type": "stream",
          "text": [
            "[[158 115 255 ...  41  18 133]\n",
            " [104 110 253 ...  47  18 163]\n",
            " [ 83 111 254 ...  84  16  75]\n",
            " ...\n",
            " [173 171 133 ... 183 144   5]\n",
            " [128 176 101 ... 141 137  22]\n",
            " [110 186 121 ... 116 108   5]]\n",
            "\n",
            " After flattening the array shape of testset : (12288, 50)\n"
          ],
          "name": "stdout"
        }
      ]
    },
    {
      "cell_type": "markdown",
      "metadata": {
        "id": "SU1IlqIJbVte"
      },
      "source": [
        "RGB channel would have values between 0-255. <br>\n",
        "It would be effective for computation, if we could stadardize the datasets.<br>\n",
        "One way to do that is normalize it (dividing dataset by highest number *255*).\n"
      ]
    },
    {
      "cell_type": "code",
      "metadata": {
        "id": "F5LzqgIpa3du"
      },
      "source": [
        "train_set_x = train_set_x_flatten/255.\n",
        "test_set_x = test_set_x_flatten/255."
      ],
      "execution_count": 23,
      "outputs": []
    },
    {
      "cell_type": "markdown",
      "metadata": {
        "id": "rxh1gKq6cLhR"
      },
      "source": [
        "Now let us create a model. <br>\n",
        "We want to bulid a model which can take input image in pixel (*nomalized*) format.<br>\n",
        "We will find forward propagoation using input and assigning weights to it using, <br>\n",
        "For one example $x^{(i)}$:\n",
        "$$z^{(i)} = w^T x^{(i)} + b \\tag{1}$$\n",
        "$$\\hat{y}^{(i)} = a^{(i)} = sigmoid(z^{(i)})\\tag{2}$$ \n",
        "\n",
        "Then will find loss for it using, <br>\n",
        "$$ \\mathcal{L}(a^{(i)}, y^{(i)}) =  - y^{(i)}  \\log(a^{(i)}) - (1-y^{(i)} )  \\log(1-a^{(i)})\\tag{3}$$\n",
        "\n",
        "**Note**: Here we are usign sigmoid function since we want output as, ***cat*** or ***not cat*** <br>\n",
        "\n",
        "For sigmoid function formula is: <br> \n",
        "$$sigmoid( w^T x + b) = \\frac{1}{1 + e^{-(w^T x + b)}}$$ "
      ]
    },
    {
      "cell_type": "code",
      "metadata": {
        "id": "jiPv2XsJcIBv"
      },
      "source": [
        "# creating sigmid function \n",
        "def sigmoid(z):\n",
        "\n",
        "    s = 1 / (1 + (np.exp(-z)))\n",
        "    \n",
        "    return s"
      ],
      "execution_count": 25,
      "outputs": []
    },
    {
      "cell_type": "code",
      "metadata": {
        "id": "sVCKxBuQd1ma"
      },
      "source": [
        "# Intializing weights for w and b\n",
        "def initialize_with_zeros(dim):\n",
        "    \n",
        "    w = np.zeros((dim, 1))\n",
        "    b = 0\n",
        "    \n",
        "    # To avoid the bug in code one was is to assert it.\n",
        "    assert(w.shape == (dim, 1))\n",
        "    assert(isinstance(b, float) or isinstance(b, int))\n",
        "    \n",
        "    return w, b"
      ],
      "execution_count": 26,
      "outputs": []
    },
    {
      "cell_type": "code",
      "metadata": {
        "id": "sBzvaMdAemWO"
      },
      "source": [
        "# Computing forward backward propagation \n",
        "\n",
        "def f_b_propagate(w, b, X, Y):\n",
        "\n",
        "    m = X.shape[1]\n",
        "    \n",
        "    # FORWARD PROPAGATION \n",
        "    A = sigmoid(np.dot(w.T, X) + b)  # compute activation\n",
        "    #cost = - (1/m) * (np.dot(Y,np.log(A.T)) + np.dot((1-Y),np.log(1-A.T))) # compute cost\n",
        "    cost = -1 / m * np.sum(Y*np.log(A)+(1-Y)*np.log(1-A), axis = 1, keepdims = True)\n",
        "    \n",
        "    \n",
        "    # BACKWARD PROPAGATION \n",
        "    dw = (1/m) * np.dot(X, (A-Y).T)  \n",
        "    db = (1/m) * np.sum(A-Y)\n",
        "    \n",
        "    cost = np.squeeze(cost)\n",
        "    assert(dw.shape == w.shape)\n",
        "    assert(db.dtype == float)\n",
        "    cost = np.squeeze(cost)\n",
        "    assert(cost.shape == ())\n",
        "    \n",
        "    # save to value in dictionary \n",
        "    grads = {\"dw\": dw,\n",
        "             \"db\": db}\n",
        "    \n",
        "    return grads, cost"
      ],
      "execution_count": 27,
      "outputs": []
    },
    {
      "cell_type": "code",
      "metadata": {
        "id": "FotdahxPfTgc"
      },
      "source": [
        "# Optimzing weight by updating them in each iteration \n",
        "\n",
        "def optimize(w, b, X, Y, num_iterations, learning_rate, print_cost = False):\n",
        "    \n",
        "    costs = []\n",
        "    \n",
        "    for i in range(num_iterations):\n",
        "        \n",
        "        \n",
        "        grads, cost = f_b_propagate(w, b, X, Y)\n",
        "        \n",
        "        # Retrieve derivatives from grads\n",
        "        dw = grads[\"dw\"]\n",
        "        db = grads[\"db\"]\n",
        "        \n",
        "        w = w - learning_rate * dw\n",
        "        b = b - learning_rate * db\n",
        "\n",
        "        \n",
        "        # Record the costs\n",
        "        if i % 100 == 0:\n",
        "            costs.append(cost)\n",
        "        \n",
        "        # Print the cost every 100 training iterations\n",
        "        if print_cost and i % 100 == 0:\n",
        "            print (\"Cost after iteration %i: %f\" %(i, cost))\n",
        "    \n",
        "    params = {\"w\": w,\n",
        "              \"b\": b}\n",
        "    \n",
        "    grads = {\"dw\": dw,\n",
        "             \"db\": db}\n",
        "    \n",
        "    return params, grads, costs"
      ],
      "execution_count": 28,
      "outputs": []
    },
    {
      "cell_type": "code",
      "metadata": {
        "id": "1V_vVHf2frWL"
      },
      "source": [
        "# Make prediciton using train model\n",
        "\n",
        "def predict(w, b, X):\n",
        "\n",
        "    \n",
        "    m = X.shape[1]\n",
        "    Y_prediction = np.zeros((1,m))\n",
        "    w = w.reshape(X.shape[0], 1)\n",
        "    \n",
        "    # Compute vector \"A\" predicting the probabilities of a cat being present in the picture\n",
        "    A = sigmoid(np.dot(w.T, X) + b)\n",
        "    \n",
        "    # We will set our threshold at 0.5 for deciding wether it is cat or not\n",
        "    for i in range(A.shape[1]):\n",
        "        if A[0, i] >= 0.5:\n",
        "            Y_prediction[0, i] = 1\n",
        "        else:\n",
        "            Y_prediction[0, i] = 0\n",
        "    \n",
        "    \n",
        "    assert(Y_prediction.shape == (1, m))\n",
        "    \n",
        "    return Y_prediction"
      ],
      "execution_count": 29,
      "outputs": []
    },
    {
      "cell_type": "code",
      "metadata": {
        "id": "GMJNw2JYgLr0"
      },
      "source": [
        "# Creating model by merging some of the above functions \n",
        "\n",
        "def model(X_train, Y_train, X_test, Y_test, num_iterations = 2000, learning_rate = 0.5, print_cost = False):\n",
        "    \n",
        "    # initialize parameters with zeros \n",
        "    w, b = initialize_with_zeros(X_train.shape[0])\n",
        "\n",
        "    # Gradient descent \n",
        "    parameters, grads, costs = optimize(w, b, X_train, Y_train, num_iterations, learning_rate, print_cost)\n",
        "    \n",
        "    # Retrieve parameters w and b from dictionary \"parameters\"\n",
        "    w = parameters[\"w\"]\n",
        "    b = parameters[\"b\"]\n",
        "    \n",
        "    # Predict test/train set examples \n",
        "    Y_prediction_test = predict(w, b, X_test)\n",
        "    Y_prediction_train = predict(w, b, X_train)\n",
        "\n",
        "\n",
        "    # Print train/test Errors\n",
        "    print(\"train accuracy: {} %\".format(100 - np.mean(np.abs(Y_prediction_train - Y_train)) * 100))\n",
        "    print(\"test accuracy: {} %\".format(100 - np.mean(np.abs(Y_prediction_test - Y_test)) * 100))\n",
        "\n",
        "    \n",
        "    d = {\"costs\": costs,\n",
        "         \"Y_prediction_test\": Y_prediction_test, \n",
        "         \"Y_prediction_train\" : Y_prediction_train, \n",
        "         \"w\" : w, \n",
        "         \"b\" : b,\n",
        "         \"learning_rate\" : learning_rate,\n",
        "         \"num_iterations\": num_iterations}\n",
        "    \n",
        "    return d"
      ],
      "execution_count": 30,
      "outputs": []
    },
    {
      "cell_type": "code",
      "metadata": {
        "colab": {
          "base_uri": "https://localhost:8080/"
        },
        "id": "p3CEYzDOgp_K",
        "outputId": "cc469aa1-d04c-4044-a188-6b5cca16da09"
      },
      "source": [
        "# Train and check the accuracy of model on train and test set\n",
        "\n",
        "d = model(train_set_x, train_set_y, test_set_x, test_set_y, num_iterations = 2000, learning_rate = 0.005, print_cost = True)"
      ],
      "execution_count": 31,
      "outputs": [
        {
          "output_type": "stream",
          "text": [
            "Cost after iteration 0: 0.693147\n",
            "Cost after iteration 100: 0.584508\n",
            "Cost after iteration 200: 0.466949\n",
            "Cost after iteration 300: 0.376007\n",
            "Cost after iteration 400: 0.331463\n",
            "Cost after iteration 500: 0.303273\n",
            "Cost after iteration 600: 0.279880\n",
            "Cost after iteration 700: 0.260042\n",
            "Cost after iteration 800: 0.242941\n",
            "Cost after iteration 900: 0.228004\n",
            "Cost after iteration 1000: 0.214820\n",
            "Cost after iteration 1100: 0.203078\n",
            "Cost after iteration 1200: 0.192544\n",
            "Cost after iteration 1300: 0.183033\n",
            "Cost after iteration 1400: 0.174399\n",
            "Cost after iteration 1500: 0.166521\n",
            "Cost after iteration 1600: 0.159305\n",
            "Cost after iteration 1700: 0.152667\n",
            "Cost after iteration 1800: 0.146542\n",
            "Cost after iteration 1900: 0.140872\n",
            "train accuracy: 99.04306220095694 %\n",
            "test accuracy: 70.0 %\n"
          ],
          "name": "stdout"
        }
      ]
    },
    {
      "cell_type": "markdown",
      "metadata": {
        "id": "rg7d6VKGhElR"
      },
      "source": [
        "From above train and test scores we can say that our model is overfitting."
      ]
    },
    {
      "cell_type": "code",
      "metadata": {
        "colab": {
          "base_uri": "https://localhost:8080/"
        },
        "id": "WHfaQSyoj0x0",
        "outputId": "4eaad333-669a-4019-c74f-2f4bf9afd0d1"
      },
      "source": [
        "print(d['Y_prediction_test'][0,12])\n",
        "print(test_set_y[0,15])\n",
        "test_set_x.shape"
      ],
      "execution_count": 53,
      "outputs": [
        {
          "output_type": "stream",
          "text": [
            "1.0\n",
            "1\n"
          ],
          "name": "stdout"
        },
        {
          "output_type": "execute_result",
          "data": {
            "text/plain": [
              "(12288, 50)"
            ]
          },
          "metadata": {
            "tags": []
          },
          "execution_count": 53
        }
      ]
    },
    {
      "cell_type": "code",
      "metadata": {
        "colab": {
          "base_uri": "https://localhost:8080/",
          "height": 285
        },
        "id": "AdDDcw2-g5PJ",
        "outputId": "2a8d8a02-cb6b-4b82-b142-fa59b462932f"
      },
      "source": [
        "index = 1\n",
        "plt.imshow(test_set_x[:,index].reshape((64, 64, 3)))\n",
        "print (\"y = \" + str(test_set_y[0,index]) + \", it's a '\" + classes[int(d[\"Y_prediction_test\"][0,index])].decode('utf-8')+  \"' picture.\")"
      ],
      "execution_count": 61,
      "outputs": [
        {
          "output_type": "stream",
          "text": [
            "y = 1, it's a 'cat' picture.\n"
          ],
          "name": "stdout"
        },
        {
          "output_type": "display_data",
          "data": {
            "image/png": "[encoded data removed]",
            "text/plain": [
              "<Figure size 432x288 with 1 Axes>"
            ]
          },
          "metadata": {
            "tags": [],
            "needs_background": "light"
          }
        }
      ]
    },
    {
      "cell_type": "code",
      "metadata": {
        "colab": {
          "base_uri": "https://localhost:8080/",
          "height": 295
        },
        "id": "G_FXFDdmhMy7",
        "outputId": "7bfced11-2a46-491c-f2f3-204aae0874ec"
      },
      "source": [
        "# Learning rate per iteration  \n",
        "costs = np.squeeze(d['costs'])\n",
        "plt.plot(costs)\n",
        "plt.ylabel('cost')\n",
        "plt.xlabel('iterations (per hundreds)')\n",
        "plt.title(\"Learning rate =\" + str(d[\"learning_rate\"]))\n",
        "plt.show()"
      ],
      "execution_count": 62,
      "outputs": [
        {
          "output_type": "display_data",
          "data": {
            "image/png": "[encoded data removed]",
            "text/plain": [
              "<Figure size 432x288 with 1 Axes>"
            ]
          },
          "metadata": {
            "tags": [],
            "needs_background": "light"
          }
        }
      ]
    },
    {
      "cell_type": "code",
      "metadata": {
        "colab": {
          "base_uri": "https://localhost:8080/",
          "height": 585
        },
        "id": "wSals3SEi7Ig",
        "outputId": "0fa56f01-e6e2-47df-acae-07ecd30ecc33"
      },
      "source": [
        "# Let us check how it generates different results according to varying learnig rates \n",
        "\n",
        "learning_rates = [0.01, 0.001, 0.0001]\n",
        "models = {}\n",
        "for i in learning_rates:\n",
        "    print (\"learning rate is: \" + str(i))\n",
        "    models[str(i)] = model(train_set_x, train_set_y, test_set_x, test_set_y, num_iterations = 1500, learning_rate = i, print_cost = False)\n",
        "    print ('\\n' + \"****************************************\" + '\\n')\n",
        "\n",
        "for i in learning_rates:\n",
        "    plt.plot(np.squeeze(models[str(i)][\"costs\"]), label= str(models[str(i)][\"learning_rate\"]))\n",
        "\n",
        "plt.ylabel('cost')\n",
        "plt.xlabel('iterations (hundreds)')\n",
        "\n",
        "legend = plt.legend(loc='upper center', shadow=True)\n",
        "frame = legend.get_frame()\n",
        "frame.set_facecolor('0.90')\n",
        "plt.show()"
      ],
      "execution_count": 63,
      "outputs": [
        {
          "output_type": "stream",
          "text": [
            "learning rate is: 0.01\n",
            "train accuracy: 99.52153110047847 %\n",
            "test accuracy: 68.0 %\n",
            "\n",
            "****************************************\n",
            "\n",
            "learning rate is: 0.001\n",
            "train accuracy: 88.99521531100478 %\n",
            "test accuracy: 64.0 %\n",
            "\n",
            "****************************************\n",
            "\n",
            "learning rate is: 0.0001\n",
            "train accuracy: 68.42105263157895 %\n",
            "test accuracy: 36.0 %\n",
            "\n",
            "****************************************\n",
            "\n"
          ],
          "name": "stdout"
        },
        {
          "output_type": "display_data",
          "data": {
            "image/png": "[encoded data removed]",
            "text/plain": [
              "<Figure size 432x288 with 1 Axes>"
            ]
          },
          "metadata": {
            "tags": [],
            "needs_background": "light"
          }
        }
      ]
    },
    {
      "cell_type": "code",
      "metadata": {
        "id": "dWXEHs3Qlljn"
      },
      "source": [
        ""
      ],
      "execution_count": null,
      "outputs": []
    }
  ]
}